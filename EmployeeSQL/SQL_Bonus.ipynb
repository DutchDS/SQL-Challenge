{
 "cells": [
  {
   "cell_type": "code",
   "execution_count": 1,
   "metadata": {},
   "outputs": [],
   "source": [
    "from sqlalchemy import create_engine\n",
    "from config import password\n",
    "import pandas as pd\n",
    "import matplotlib.pyplot as plt\n",
    "import numpy as np\n",
    "\n",
    "engine_string = 'postgresql://postgres:' + password + '@localhost:5432/homework_db'\n",
    "engine = create_engine(engine_string)\n",
    "connection = engine.connect()"
   ]
  },
  {
   "cell_type": "code",
   "execution_count": 2,
   "metadata": {},
   "outputs": [
    {
     "name": "stdout",
     "output_type": "stream",
     "text": [
      "-- Most common salary ranges for employees.\n",
      "SELECT e.emp_no, s.salary, MAX(s.from_date)\n",
      "FROM\n",
      "\temployees e\n",
      "\tINNER JOIN salaries s\n",
      "\tON e.emp_no = s.emp_no\n",
      "GROUP BY e.emp_no, s.salary\n",
      "ORDER BY s.salary DESC\n"
     ]
    }
   ],
   "source": [
    "query_str = open('bonus_query.sql')\n",
    "query_text = \"\"\n",
    "for text in query_str:\n",
    "    query_text = query_text + text\n",
    "    \n",
    "print(query_text)"
   ]
  },
  {
   "cell_type": "code",
   "execution_count": 3,
   "metadata": {},
   "outputs": [],
   "source": [
    "# df_new = pd.read_sql('firepower', engine)\n",
    "df_query = pd.read_sql_query(query_text, con=connection)"
   ]
  },
  {
   "cell_type": "code",
   "execution_count": 4,
   "metadata": {},
   "outputs": [
    {
     "data": {
      "text/html": [
       "<div>\n",
       "<style scoped>\n",
       "    .dataframe tbody tr th:only-of-type {\n",
       "        vertical-align: middle;\n",
       "    }\n",
       "\n",
       "    .dataframe tbody tr th {\n",
       "        vertical-align: top;\n",
       "    }\n",
       "\n",
       "    .dataframe thead th {\n",
       "        text-align: right;\n",
       "    }\n",
       "</style>\n",
       "<table border=\"1\" class=\"dataframe\">\n",
       "  <thead>\n",
       "    <tr style=\"text-align: right;\">\n",
       "      <th></th>\n",
       "      <th>emp_no</th>\n",
       "      <th>salary</th>\n",
       "      <th>max</th>\n",
       "    </tr>\n",
       "  </thead>\n",
       "  <tbody>\n",
       "    <tr>\n",
       "      <th>0</th>\n",
       "      <td>205000</td>\n",
       "      <td>129492</td>\n",
       "      <td>10/12/1991</td>\n",
       "    </tr>\n",
       "    <tr>\n",
       "      <th>1</th>\n",
       "      <td>44188</td>\n",
       "      <td>127238</td>\n",
       "      <td>3/16/1991</td>\n",
       "    </tr>\n",
       "    <tr>\n",
       "      <th>2</th>\n",
       "      <td>444756</td>\n",
       "      <td>127041</td>\n",
       "      <td>6/14/1999</td>\n",
       "    </tr>\n",
       "    <tr>\n",
       "      <th>3</th>\n",
       "      <td>458302</td>\n",
       "      <td>126703</td>\n",
       "      <td>10/5/1998</td>\n",
       "    </tr>\n",
       "    <tr>\n",
       "      <th>4</th>\n",
       "      <td>37558</td>\n",
       "      <td>125469</td>\n",
       "      <td>2/23/1989</td>\n",
       "    </tr>\n",
       "  </tbody>\n",
       "</table>\n",
       "</div>"
      ],
      "text/plain": [
       "   emp_no  salary         max\n",
       "0  205000  129492  10/12/1991\n",
       "1   44188  127238   3/16/1991\n",
       "2  444756  127041   6/14/1999\n",
       "3  458302  126703   10/5/1998\n",
       "4   37558  125469   2/23/1989"
      ]
     },
     "execution_count": 4,
     "metadata": {},
     "output_type": "execute_result"
    }
   ],
   "source": [
    "df_query.head()"
   ]
  },
  {
   "cell_type": "code",
   "execution_count": 5,
   "metadata": {},
   "outputs": [],
   "source": [
    "bins = [35000, 45000, 55000, 65000, 75000, 85000, 95000, 999999]\n",
    "group_names = [\"35-45\", \"45-55\", \"55-65\", \"65-75\", \"75-85\", \"85-95\", \">95\"]\n",
    "df = pd.DataFrame()\n",
    "df_query[\"Salary_Bins\"] = pd.cut(df_query[\"salary\"], bins, labels=group_names)"
   ]
  },
  {
   "cell_type": "code",
   "execution_count": 6,
   "metadata": {},
   "outputs": [
    {
     "data": {
      "text/html": [
       "<div>\n",
       "<style scoped>\n",
       "    .dataframe tbody tr th:only-of-type {\n",
       "        vertical-align: middle;\n",
       "    }\n",
       "\n",
       "    .dataframe tbody tr th {\n",
       "        vertical-align: top;\n",
       "    }\n",
       "\n",
       "    .dataframe thead th {\n",
       "        text-align: right;\n",
       "    }\n",
       "</style>\n",
       "<table border=\"1\" class=\"dataframe\">\n",
       "  <thead>\n",
       "    <tr style=\"text-align: right;\">\n",
       "      <th></th>\n",
       "      <th>emp_no</th>\n",
       "      <th>salary</th>\n",
       "      <th>max</th>\n",
       "      <th>Salary_Bins</th>\n",
       "    </tr>\n",
       "  </thead>\n",
       "  <tbody>\n",
       "    <tr>\n",
       "      <th>0</th>\n",
       "      <td>205000</td>\n",
       "      <td>129492</td>\n",
       "      <td>10/12/1991</td>\n",
       "      <td>&gt;95</td>\n",
       "    </tr>\n",
       "    <tr>\n",
       "      <th>1</th>\n",
       "      <td>44188</td>\n",
       "      <td>127238</td>\n",
       "      <td>3/16/1991</td>\n",
       "      <td>&gt;95</td>\n",
       "    </tr>\n",
       "    <tr>\n",
       "      <th>2</th>\n",
       "      <td>444756</td>\n",
       "      <td>127041</td>\n",
       "      <td>6/14/1999</td>\n",
       "      <td>&gt;95</td>\n",
       "    </tr>\n",
       "    <tr>\n",
       "      <th>3</th>\n",
       "      <td>458302</td>\n",
       "      <td>126703</td>\n",
       "      <td>10/5/1998</td>\n",
       "      <td>&gt;95</td>\n",
       "    </tr>\n",
       "    <tr>\n",
       "      <th>4</th>\n",
       "      <td>37558</td>\n",
       "      <td>125469</td>\n",
       "      <td>2/23/1989</td>\n",
       "      <td>&gt;95</td>\n",
       "    </tr>\n",
       "  </tbody>\n",
       "</table>\n",
       "</div>"
      ],
      "text/plain": [
       "   emp_no  salary         max Salary_Bins\n",
       "0  205000  129492  10/12/1991         >95\n",
       "1   44188  127238   3/16/1991         >95\n",
       "2  444756  127041   6/14/1999         >95\n",
       "3  458302  126703   10/5/1998         >95\n",
       "4   37558  125469   2/23/1989         >95"
      ]
     },
     "execution_count": 6,
     "metadata": {},
     "output_type": "execute_result"
    }
   ],
   "source": [
    "df_query.head()"
   ]
  },
  {
   "cell_type": "code",
   "execution_count": 7,
   "metadata": {},
   "outputs": [
    {
     "data": {
      "text/plain": [
       "Salary_Bins\n",
       "35-45    126277\n",
       "45-55     63063\n",
       "55-65     49940\n",
       "65-75     32726\n",
       "75-85     17807\n",
       "Name: Salary_Bins, dtype: int64"
      ]
     },
     "execution_count": 7,
     "metadata": {},
     "output_type": "execute_result"
    }
   ],
   "source": [
    "df_groupby = df_query.groupby(['Salary_Bins'])\n",
    "df_salaries_histo = df_groupby['Salary_Bins'].count()\n",
    "df_salaries_histo.head()"
   ]
  },
  {
   "cell_type": "code",
   "execution_count": 8,
   "metadata": {},
   "outputs": [
    {
     "data": {
      "text/plain": [
       "Text(0.5, 0.98, 'Employee count per salary range')"
      ]
     },
     "execution_count": 8,
     "metadata": {},
     "output_type": "execute_result"
    },
    {
     "data": {
      "image/png": "[encoded data removed]",
      "text/plain": [
       "<Figure size 432x288 with 1 Axes>"
      ]
     },
     "metadata": {
      "needs_background": "light"
     },
     "output_type": "display_data"
    }
   ],
   "source": [
    "# Generate the Plot (with Error Bars)\n",
    "x_axis = np.arange(len(df_salaries_histo))\n",
    "\n",
    "tick_locations = [value for value in x_axis]\n",
    "salaries = group_names\n",
    "plt.xticks(x_axis, salaries)\n",
    "\n",
    "# Plot the chart with lables and title\n",
    "plt.bar(x_axis, df_salaries_histo, color='r', alpha=0.75)\n",
    "plt.grid(which='major', axis='y')\n",
    "plt.xlabel(\"Salary Range (*$1.000)\")\n",
    "plt.ylabel(\"# of Employees\")\n",
    "plt.suptitle(\"Employee count per salary range\", fontsize=14, fontweight=\"bold\")"
   ]
  },
  {
   "cell_type": "code",
   "execution_count": 9,
   "metadata": {},
   "outputs": [
    {
     "name": "stdout",
     "output_type": "stream",
     "text": [
      "SELECT t.title \"Title\", round(avg(s.salary)) \"Average Salary\"\n",
      "FROM employees e\n",
      "\tINNER JOIN salaries s\n",
      "\tON e.emp_no=s.emp_no\n",
      "\tINNER JOIN titles t\n",
      "\tON e.emp_no=t.emp_no\n",
      "GROUP BY t.title\n",
      "ORDER BY \"Average Salary\" DESC\n"
     ]
    }
   ],
   "source": [
    "query_str = open('bonus_query2.sql')\n",
    "query_text = \"\"\n",
    "for text in query_str:\n",
    "    query_text = query_text + text\n",
    "    \n",
    "print(query_text)"
   ]
  },
  {
   "cell_type": "code",
   "execution_count": 10,
   "metadata": {},
   "outputs": [],
   "source": [
    "# df_new = pd.read_sql('firepower', engine)\n",
    "df_query2 = pd.read_sql_query(query_text, con=connection)"
   ]
  },
  {
   "cell_type": "code",
   "execution_count": 11,
   "metadata": {},
   "outputs": [
    {
     "data": {
      "text/html": [
       "<div>\n",
       "<style scoped>\n",
       "    .dataframe tbody tr th:only-of-type {\n",
       "        vertical-align: middle;\n",
       "    }\n",
       "\n",
       "    .dataframe tbody tr th {\n",
       "        vertical-align: top;\n",
       "    }\n",
       "\n",
       "    .dataframe thead th {\n",
       "        text-align: right;\n",
       "    }\n",
       "</style>\n",
       "<table border=\"1\" class=\"dataframe\">\n",
       "  <thead>\n",
       "    <tr style=\"text-align: right;\">\n",
       "      <th></th>\n",
       "      <th>Title</th>\n",
       "      <th>Average Salary</th>\n",
       "    </tr>\n",
       "  </thead>\n",
       "  <tbody>\n",
       "    <tr>\n",
       "      <th>0</th>\n",
       "      <td>Senior Staff</td>\n",
       "      <td>58503.0</td>\n",
       "    </tr>\n",
       "    <tr>\n",
       "      <th>1</th>\n",
       "      <td>Staff</td>\n",
       "      <td>58465.0</td>\n",
       "    </tr>\n",
       "    <tr>\n",
       "      <th>2</th>\n",
       "      <td>Manager</td>\n",
       "      <td>51531.0</td>\n",
       "    </tr>\n",
       "    <tr>\n",
       "      <th>3</th>\n",
       "      <td>Technique Leader</td>\n",
       "      <td>48581.0</td>\n",
       "    </tr>\n",
       "    <tr>\n",
       "      <th>4</th>\n",
       "      <td>Engineer</td>\n",
       "      <td>48540.0</td>\n",
       "    </tr>\n",
       "    <tr>\n",
       "      <th>5</th>\n",
       "      <td>Senior Engineer</td>\n",
       "      <td>48507.0</td>\n",
       "    </tr>\n",
       "    <tr>\n",
       "      <th>6</th>\n",
       "      <td>Assistant Engineer</td>\n",
       "      <td>48493.0</td>\n",
       "    </tr>\n",
       "  </tbody>\n",
       "</table>\n",
       "</div>"
      ],
      "text/plain": [
       "                Title  Average Salary\n",
       "0        Senior Staff         58503.0\n",
       "1               Staff         58465.0\n",
       "2             Manager         51531.0\n",
       "3    Technique Leader         48581.0\n",
       "4            Engineer         48540.0\n",
       "5     Senior Engineer         48507.0\n",
       "6  Assistant Engineer         48493.0"
      ]
     },
     "execution_count": 11,
     "metadata": {},
     "output_type": "execute_result"
    }
   ],
   "source": [
    "df_query2"
   ]
  },
  {
   "cell_type": "code",
   "execution_count": 12,
   "metadata": {},
   "outputs": [
    {
     "name": "stderr",
     "output_type": "stream",
     "text": [
      "C:\\Users\\dutch\\Anaconda3\\envs\\PythonData\\lib\\site-packages\\ipykernel_launcher.py:16: MatplotlibDeprecationWarning: Adding an axes using the same arguments as a previous axes currently reuses the earlier instance.  In a future version, a new instance will always be created and returned.  Meanwhile, this warning can be suppressed, and the future behavior ensured, by passing a unique label to each axes instance.\n",
      "  app.launch_new_instance()\n"
     ]
    },
    {
     "data": {
      "text/plain": [
       "Text(0.5, 0.98, 'Average Salary per Title')"
      ]
     },
     "execution_count": 12,
     "metadata": {},
     "output_type": "execute_result"
    },
    {
     "data": {
      "image/png": "[encoded data removed]",
      "text/plain": [
       "<Figure size 432x288 with 1 Axes>"
      ]
     },
     "metadata": {
      "needs_background": "light"
     },
     "output_type": "display_data"
    }
   ],
   "source": [
    "avg_salary = df_query2['Average Salary']\n",
    "\n",
    "plt.ylim(48000,60000)\n",
    "plt.xlim(0.5,7.5)\n",
    "\n",
    "#Used handles to assign specific colors - personal choice\n",
    "\n",
    "legend1, = plt.bar(1, df_query2.iloc[0,1], color='red', alpha=0.75, label=df_query2.iloc[0,0])\n",
    "legend2, = plt.bar(2, df_query2.iloc[1,1], color='orange', alpha=0.75,label=df_query2.iloc[1,0])\n",
    "legend3, = plt.bar(3, df_query2.iloc[2,1], color='yellow', alpha=0.75,label=df_query2.iloc[2,0])\n",
    "legend4, = plt.bar(4, df_query2.iloc[3,1], color='green', alpha=0.75,label=df_query2.iloc[3,0])\n",
    "legend5, = plt.bar(5, df_query2.iloc[4,1], color='blue', alpha=0.75,label=df_query2.iloc[4,0])\n",
    "legend6, = plt.bar(6, df_query2.iloc[5,1], color='indigo', alpha=0.75,label=df_query2.iloc[5,0])\n",
    "legend7, = plt.bar(7, df_query2.iloc[6,1], color='violet', alpha=0.75,label=df_query2.iloc[6,0])\n",
    "\n",
    "ax = plt.subplot(111)\n",
    "ax.legend()\n",
    "\n",
    "# plt.bar(x_axis, avg_salary, color='r', alpha=0.75)\n",
    "plt.grid(which='major', axis='y')\n",
    "plt.xlabel(\"Title\")\n",
    "plt.ylabel(\"Average Salary\")\n",
    "plt.suptitle(\"Average Salary per Title\", fontsize=14, fontweight=\"bold\")"
   ]
  },
  {
   "cell_type": "code",
   "execution_count": 13,
   "metadata": {},
   "outputs": [
    {
     "name": "stdout",
     "output_type": "stream",
     "text": [
      "SELECT t.title, s.salary, e.emp_no, e.first_name, e.last_name, d.dept_name\n",
      "FROM employees e\n",
      "\tINNER JOIN salaries s\n",
      "\tON e.emp_no=s.emp_no\n",
      "\tINNER JOIN titles t\n",
      "\tON e.emp_no=t.emp_no\n",
      "\tINNER JOIN dept_emp de\n",
      "\tON e.emp_no=de.emp_no\n",
      "\tINNER JOIN departments d\n",
      "\tON de.dept_no=d.dept_no\n",
      "WHERE e.emp_no=499942\n",
      "\n"
     ]
    }
   ],
   "source": [
    "query_str = open('bonus_query3.sql')\n",
    "query_text = \"\"\n",
    "for text in query_str:\n",
    "    query_text = query_text + text\n",
    "    \n",
    "print(query_text)"
   ]
  },
  {
   "cell_type": "code",
   "execution_count": 14,
   "metadata": {},
   "outputs": [],
   "source": [
    "# df_new = pd.read_sql('firepower', engine)\n",
    "df_query3 = pd.read_sql_query(query_text, con=connection)"
   ]
  },
  {
   "cell_type": "code",
   "execution_count": 15,
   "metadata": {},
   "outputs": [
    {
     "name": "stdout",
     "output_type": "stream",
     "text": [
      "Employee 499942 is a Technique Leader, who makes $40000 a year and is named: APRIL FOOLSDAY!!!\n"
     ]
    }
   ],
   "source": [
    "title = df_query3.iloc[0,0]\n",
    "salary = df_query3.iloc[0,1]\n",
    "emp_no = df_query3.iloc[0,2]\n",
    "first_name = df_query3.iloc[0,3].upper()\n",
    "last_name = df_query3.iloc[0,4].upper()\n",
    "dept_name = df_query3.iloc[0,5]\n",
    "\n",
    "print(f\"Employee {emp_no} is a {title}, who makes ${salary} a year and is named: {first_name} {last_name}!!!\")"
   ]
  }
 ],
 "metadata": {
  "kernelspec": {
   "display_name": "Python [conda env:PythonData] *",
   "language": "python",
   "name": "conda-env-PythonData-py"
  },
  "language_info": {
   "codemirror_mode": {
    "name": "ipython",
    "version": 3
   },
   "file_extension": ".py",
   "mimetype": "text/x-python",
   "name": "python",
   "nbconvert_exporter": "python",
   "pygments_lexer": "ipython3",
   "version": "3.6.9"
  }
 },
 "nbformat": 4,
 "nbformat_minor": 2
}
